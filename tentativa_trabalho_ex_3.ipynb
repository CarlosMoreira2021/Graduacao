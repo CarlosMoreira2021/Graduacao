{
  "nbformat": 4,
  "nbformat_minor": 0,
  "metadata": {
    "colab": {
      "name": "tentativa trabalho ex 3",
      "provenance": [],
      "collapsed_sections": [],
      "authorship_tag": "ABX9TyM5twjs+Jut/fRTZzofQ1tj",
      "include_colab_link": true
    },
    "kernelspec": {
      "name": "python3",
      "display_name": "Python 3"
    },
    "language_info": {
      "name": "python"
    }
  },
  "cells": [
    {
      "cell_type": "markdown",
      "metadata": {
        "id": "view-in-github",
        "colab_type": "text"
      },
      "source": [
        "<a href=\"https://colab.research.google.com/github/CarlosMoreira2021/Graduacao/blob/main/tentativa_trabalho_ex_3.ipynb\" target=\"_parent\"><img src=\"https://colab.research.google.com/assets/colab-badge.svg\" alt=\"Open In Colab\"/></a>"
      ]
    },
    {
      "cell_type": "code",
      "execution_count": null,
      "metadata": {
        "id": "NUwS1bKQT14p"
      },
      "outputs": [],
      "source": [
        "\n",
        "def pesoObjeto(pergunta,max,min):\n",
        "  while True:\n",
        "    try:     \n",
        "      kg = int(input(pergunta))\n",
        "      break\n",
        "    except ValueError:\n",
        "      print('digite um numero valido')\n",
        "      continue\n",
        "\n",
        "\n",
        "def rotaObjeto():\n",
        "  while True:\n",
        "      rt = str(input(\"Digite uma rota\").upper())\n",
        "      if rt != 'BR' and rt != 'BS' and rt != 'RB' and rt != 'RS' and rt != 'SR' and rt != 'SB':\n",
        "        print('voce digitou uma rota que nao existe')\n",
        "        continue\n",
        "      elif rt == 'BR':\n",
        "        rota = 1.5\n",
        "        print('Voce digitou \"BR\"- Brasilia até Rio de janeiro')\n",
        "        break\n",
        "      elif rt == 'BS':\n",
        "        rota = 1.2\n",
        "        print('Voce digitou \"BS\"- Brasilia até São paulo')\n",
        "        break\n",
        "      elif rt == 'RS':\n",
        "        rota = 1\n",
        "        print('Voce digitou \"RS\"- Rio de janeiro até São Paulo')\n",
        "        break \n",
        "      elif rt == 'SR':\n",
        "        rota = 1\n",
        "        print('Voce digitou \"SR\"- São paulo ate Rio de Janeiro')\n",
        "        break\n",
        "      elif rt == 'SB':\n",
        "        rota = 1.2\n",
        "        print('Voce digitou \"SB\"- São paulo ate Brasilia')\n",
        "        break\n",
        "      elif rt == 'RB':\n",
        "        rota = 1.5\n",
        "        print('Voce digitou \"RB\"- Rio de Janeiro ate Brasilia')\n",
        "        break\n",
        "\n",
        "\n",
        "\n",
        "\n",
        "kg = pesoObjeto(('Digite o peso',0,31)))\n",
        "\n",
        "\n",
        "\n",
        "\n"
      ]
    },
    {
      "cell_type": "code",
      "source": [
        "\n",
        "def pesoObjeto(peso):\n",
        "  while True:\n",
        "    try:     \n",
        "      kg = input(float(peso))\n",
        "      break\n",
        "    except ValueError:\n",
        "      print('digite um numero valido')\n",
        "      continue\n",
        "\n",
        "kg = pesoObjeto(float(input('Digite o peso')))"
      ],
      "metadata": {
        "id": "LwRDpcR-voRe"
      },
      "execution_count": null,
      "outputs": []
    }
  ]
}