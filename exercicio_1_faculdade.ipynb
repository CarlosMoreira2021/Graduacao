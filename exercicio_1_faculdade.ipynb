{
  "nbformat": 4,
  "nbformat_minor": 0,
  "metadata": {
    "colab": {
      "name": "exercicio 1 faculdade",
      "provenance": [],
      "authorship_tag": "ABX9TyMEyIEmF2oPpyZILErhkop3",
      "include_colab_link": true
    },
    "kernelspec": {
      "name": "python3",
      "display_name": "Python 3"
    },
    "language_info": {
      "name": "python"
    }
  },
  "cells": [
    {
      "cell_type": "markdown",
      "metadata": {
        "id": "view-in-github",
        "colab_type": "text"
      },
      "source": [
        "<a href=\"https://colab.research.google.com/github/CarlosMoreira2021/Graduacao/blob/main/exercicio_1_faculdade.ipynb\" target=\"_parent\"><img src=\"https://colab.research.google.com/assets/colab-badge.svg\" alt=\"Open In Colab\"/></a>"
      ]
    },
    {
      "cell_type": "code",
      "execution_count": null,
      "metadata": {
        "id": "AfkXaTKRcBoX"
      },
      "outputs": [],
      "source": [
        "print('---Bem vindos a loja do Carlos Eduardo Moreira de Oliveira');\n",
        "print('----RU: 3615321')\n",
        "preco = float (input('Entre com o valor do produto: '))\n",
        "quant = int(input('Entre com a quantidade do produto: '))\n",
        "soma = quant * preco\n",
        "\n",
        "if quant <= 9:\n",
        "  print('Devido a quantidade o produto nao obteve desconto e seu valor sera de: R$ {:.2f}'.format(soma))\n",
        "elif quant > 9 and quant <= 99:\n",
        "  calc = soma - (soma * 5 / 100)\n",
        "  print('O valo sem desconto foi: R$ {:.2f}'.format(soma))\n",
        "  print('O valor com desconto foi: R$ {:.2f} (desconto 5%)'.format(calc))\n",
        "elif quant > 99 and quant <= 999:\n",
        "  calc = soma - (soma * 10 / 100)\n",
        "  print('O valo sem desconto foi: R$ {:.2f}'.format(soma))\n",
        "  print('O valor com desconto foi: R$ {:.2f} (desconto 10%)'.format(calc))\n",
        "elif quant >= 1000:\n",
        "  calc = soma - (soma * 15 / 100)\n",
        "  print('O valo sem desconto foi: R$ {:.2f}'.format(soma))\n",
        "  print('O valor com desconto foi: R$ {:.2f} (desconto 15%)'.format(calc))\n"
      ]
    }
  ]
}