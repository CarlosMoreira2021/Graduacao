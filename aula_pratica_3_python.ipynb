{
  "nbformat": 4,
  "nbformat_minor": 0,
  "metadata": {
    "colab": {
      "name": "aula pratica 3 python",
      "provenance": [],
      "collapsed_sections": [],
      "authorship_tag": "ABX9TyNeu8I7e73vpsrxJJ7DYESU",
      "include_colab_link": true
    },
    "kernelspec": {
      "name": "python3",
      "display_name": "Python 3"
    },
    "language_info": {
      "name": "python"
    }
  },
  "cells": [
    {
      "cell_type": "markdown",
      "metadata": {
        "id": "view-in-github",
        "colab_type": "text"
      },
      "source": [
        "<a href=\"https://colab.research.google.com/github/CarlosMoreira2021/Graduacao/blob/main/aula_pratica_3_python.ipynb\" target=\"_parent\"><img src=\"https://colab.research.google.com/assets/colab-badge.svg\" alt=\"Open In Colab\"/></a>"
      ]
    },
    {
      "cell_type": "markdown",
      "source": [
        "Exercicio "
      ],
      "metadata": {
        "id": "_qeQfT5MkG7g"
      }
    },
    {
      "cell_type": "markdown",
      "source": [
        "A) O somatorio de 2 com 2 é menor do que 4"
      ],
      "metadata": {
        "id": "2OKx7ZDdkW-H"
      }
    },
    {
      "cell_type": "code",
      "execution_count": null,
      "metadata": {
        "id": "a_6abaZ1iAl4"
      },
      "outputs": [],
      "source": [
        "n1 = int(input('Digite um numero: '));\n",
        "n2 = int(input('Digite outro numero: '));\n",
        "\n",
        "resultado = n1 + n2;\n",
        "\n",
        "if resultado <= 4:\n",
        "  print('esse numero é menor do que 4');\n",
        "else:\n",
        "  print('{} é maior que 4'.format(resultado));\n"
      ]
    },
    {
      "cell_type": "markdown",
      "source": [
        "O valor 7 // 3 é igual a 1 + 1"
      ],
      "metadata": {
        "id": "FAL2Pmn9kWDh"
      }
    },
    {
      "cell_type": "code",
      "source": [
        "n1 = int (input('Digite um numero: '));\n",
        "n2 = int (input('Digite outro numero: '));\n",
        "\n",
        "r = n1//n2;\n",
        "\n",
        "if r == 2:\n",
        "  print('a divisao de {} e {} é = {}'.format(n1,n2,r));\n",
        "\n",
        "else:\n",
        "   print('Fim do programa !!!!');\n"
      ],
      "metadata": {
        "id": "YAi2Cdl1kUq6"
      },
      "execution_count": null,
      "outputs": []
    },
    {
      "cell_type": "markdown",
      "source": [
        "A soma de 3 elevado ao quadrado com 3 ao quadrado é igual a 25"
      ],
      "metadata": {
        "id": "ceVC_EGYotZA"
      }
    },
    {
      "cell_type": "code",
      "source": [
        "print('------Descubra qual a some de 3 elevado ao quadrado com 4 elevado ao quadrado é igual a 25-----')\n",
        "\n",
        "n1 = int(input('Digite um numero:')) ** 2\n",
        "n2 = int(input('Digite outro numero:')) **2\n",
        "\n",
        "r = n1 + n2 \n",
        "\n",
        "if r == 25:\n",
        "  print('o resultado de n1 ao quadrado + n2 ao quadrado = 25')\n",
        "else:\n",
        "  print('{} nao é igual a 25'.format(r))\n",
        "  "
      ],
      "metadata": {
        "id": "phMKbGbIo2U5"
      },
      "execution_count": null,
      "outputs": []
    },
    {
      "cell_type": "markdown",
      "source": [
        "A soma de 2, 4 e 6 é maior do que *12*"
      ],
      "metadata": {
        "id": "Pqxl4tK5rSj5"
      }
    },
    {
      "cell_type": "code",
      "source": [
        "n1 = int(input('Digite um numero: '))\n",
        "n2 = int(input('Digite outro numero: '))\n",
        "n3 = int(input('Digite mais um numero: '))\n",
        "\n",
        "r = n1 + n2 + n3 \n",
        "\n",
        "if r > 12:\n",
        "  print('{} é maior que 12'.format(r))\n",
        "elif r < 12:\n",
        "   print('{} é menor que 12'.format(r))\n",
        "elif r == 12:\n",
        "  print('a soma dos seus numero é = {}'.format(r))\n",
        "\n",
        "\n"
      ],
      "metadata": {
        "id": "sy5qGzk6rRYQ"
      },
      "execution_count": null,
      "outputs": []
    },
    {
      "cell_type": "markdown",
      "source": [
        "Se a idade e maior que 60, escreva: 'Voce tem direito aos beneficios'"
      ],
      "metadata": {
        "id": "HpRxCVRms-FK"
      }
    },
    {
      "cell_type": "code",
      "source": [
        "print('------- verificador INSS-----------')\n",
        "\n",
        "idade = int(input('Digite sua idade:'))\n",
        "contri = int(input('Quantos anos voce ja contribuiu para previdencia: '))\n",
        "\n",
        "if idade >= 60 and contri >= 30:\n",
        "  print('Voce tem direito aos beneficios')\n",
        "else:\n",
        "  print('Voce ainda nao possui idade suficiente para ter direito aos beneficios')\n"
      ],
      "metadata": {
        "id": "kbqD31OetgxM"
      },
      "execution_count": null,
      "outputs": []
    },
    {
      "cell_type": "markdown",
      "source": [
        "Se dano é maior do que 10 e escudo é igual a 0, escreva: 'voce esta morto'"
      ],
      "metadata": {
        "id": "Ua1pbq1_vjP8"
      }
    },
    {
      "cell_type": "code",
      "source": [
        "import random \n",
        "\n",
        "dano = random.randint(0,20)\n",
        "escudo = random.randint(-10,10)\n",
        "\n",
        "if dano > 10 and escudo == 0 or dano > escudo:\n",
        "  print('Voce recebeu {} de dano e seu escudo ficou {} e por esse motivo voce MORREU '.format(dano,escudo))\n",
        "else:\n",
        "  print('Voce recebeu {} de dano e seu escudo fico {} e por isso voce SOBREVIVEU'.format(dano,escudo))\n"
      ],
      "metadata": {
        "id": "3vx6oFl-v6GY"
      },
      "execution_count": null,
      "outputs": []
    },
    {
      "cell_type": "markdown",
      "source": [
        "Se pelo menos uma das variaveis booleanas norte,sul, leste e oeste resultarem em true, escreva: 'Voce escapou'"
      ],
      "metadata": {
        "id": "Y4SzzSPyy6u0"
      }
    },
    {
      "cell_type": "code",
      "source": [
        "import random\n",
        "\n",
        "lista = [\"norte\",\"sul\",\"leste\",\"oeste\",\"voce nao escapou\"]\n",
        "resultado = (random.choice(lista))\n",
        "\n",
        "print('voce fugiu para {}'.format(resultado))\n",
        "\n",
        "if resultado == \"norte\":\n",
        "  print('voce escapou')\n",
        "elif resultado == \"sul\":\n",
        "  print('voce escapou')\n",
        "elif resultado == \"leste\":\n",
        "  print('voce escapou')\n",
        "elif resultado == \"oeste\":\n",
        "  print(\"voce escapou\")\n",
        "elif resultado == \"voce nao escapou\":\n",
        "  print('voce morreu')\n",
        "\n",
        "print('fim do jogo')\n",
        "\n",
        "\n"
      ],
      "metadata": {
        "id": "olY3xbeNw3Mz"
      },
      "execution_count": null,
      "outputs": []
    },
    {
      "cell_type": "markdown",
      "source": [
        "Se o ano é divisivel por 4, escreva: ' Pode ser um ano bissexto'. Caso contrario,escreva: 'Definitivamente nao e um ano bissexto'"
      ],
      "metadata": {
        "id": "WkkvmhVh8dAG"
      }
    },
    {
      "cell_type": "code",
      "source": [
        "ano = int(input('Ano:'))\n",
        "if (ano % 4 == 0 ):\n",
        "    print('Bissexto')\n",
        "else:\n",
        "    print('Não é bissexto')\n"
      ],
      "metadata": {
        "id": "2T17RWN28cfz"
      },
      "execution_count": null,
      "outputs": []
    },
    {
      "cell_type": "markdown",
      "source": [
        "Se ambas as variaveis booleanas cima e baixo forem true, escreva: 'Decida-se!',\n",
        "caso contrario,escreva:'Voce escolheu um caminho'"
      ],
      "metadata": {
        "id": "6Cig7wAEBGcj"
      }
    },
    {
      "cell_type": "code",
      "source": [
        "escolha = str(input('Deseja seguir pra cima ou pra baixo?'))\n",
        "\n",
        "res = escolha.lower()\n",
        "\n",
        "if res == 'cima' or res == 'baixo':\n",
        "  print('voce fugiu')\n",
        "else:\n",
        "  print('voce segui um caminho errado')"
      ],
      "metadata": {
        "id": "mn3YrdyQBXRX"
      },
      "execution_count": null,
      "outputs": []
    },
    {
      "cell_type": "markdown",
      "source": [
        "Faca um algoritmo que receba tres valor, representando os lados de um triangulo fornecidos pelo usuario.Verifique se os valor formam um triangulo e classifique como:\n",
        ".equilatero(tres lados iguais)\n",
        ".isosceles(dois lados iguais)\n",
        ".escaleno(tres lados diferentes)\n",
        "\n",
        "Lembre-se que, para formar um triangulo, nenhum dos lados pode ser igual a zero,e um lado nao pode ser maior do que a soma dos outros dois lado."
      ],
      "metadata": {
        "id": "6_LIh3VTljVf"
      }
    },
    {
      "cell_type": "code",
      "source": [
        "A = int(input('Digite o 1° lado do triangulo: '))\n",
        "B = int(input('Digite o 2° lado do triangulo: '))\n",
        "C = int(input('Digite o 3° lado do triangulo: '))\n",
        "\n",
        "if (A > 0) and (B > 0) and (C > 0):\n",
        "  if(A + B > C) and (A + C > B) and (B + C > A):\n",
        "      if A != B and A != C and B != C:\n",
        "        print('triangulo escaleno')\n",
        "      elif A == B and A == C and B == C:\n",
        "        print('Triangulo equilatero')\n",
        "      else:\n",
        "        print('Trigulo isosceles')\n",
        "  else:\n",
        "    print('Ao menos um dos valores indicados não servem para formar um triangulo')\n",
        "else:\n",
        "    print('Ao menos um dos valores indicados não servem para formar um triangulo')\n",
        "\n"
      ],
      "metadata": {
        "id": "M-x-Pr07mYXz"
      },
      "execution_count": null,
      "outputs": []
    },
    {
      "cell_type": "markdown",
      "source": [
        "Escreva um algoritmo que leia dois valores numericos e que pergunte ao usuario qual operacao dele deseja realizar: adição (+), subtracao(-), multiplicacao (*) ou divisao (/). Exiba na tela o resultado da operacao desejada.\n"
      ],
      "metadata": {
        "id": "eQbFY1lA3C-7"
      }
    },
    {
      "cell_type": "code",
      "source": [
        "n1 = int(input('Escreva um numero: '))\n",
        "n2 = int(input('Escreva outro numero: '))\n",
        "\n",
        "print('Digite a operacao desejada')\n",
        "print('+')\n",
        "print('-')\n",
        "print('*')\n",
        "print('/')\n",
        "op = (input('------> '))\n",
        "\n",
        "\n",
        "if op == '+':\n",
        "    print('{} + {} = {} '.format(n1,n2,(n1+n2)))\n",
        "elif op == '-':\n",
        "    print('{} - {} = {} '.format(n1,n2,(n1-n2)))\n",
        "elif op == '*':\n",
        "    print('{} x {} = {} '.format(n1,n2,(n1*n2)))\n",
        "elif op == '/':\n",
        "    print('{} / {} = {}'.format(n1,n2,(n1/n2)))\n",
        "else:\n",
        "    print('Botao invalido')\n",
        "\n",
        "print('FIM DO PROGRAMA')\n"
      ],
      "metadata": {
        "id": "zlwqRLOQ3ckh"
      },
      "execution_count": null,
      "outputs": []
    },
    {
      "cell_type": "markdown",
      "source": [
        "Escreva um programa que calcule o preco a pagar pelo fornecimento de energia eletrica.\n",
        "Pergunte a quantidade de kwh consumida e o tipo de instalacao: R para residencia, I para industria e C para comercios"
      ],
      "metadata": {
        "id": "W8bFRVRDtSi7"
      }
    },
    {
      "cell_type": "code",
      "source": [
        "\n",
        "\n",
        "print('Calcule sua energia')\n",
        "\n",
        "k = float(input('Escreva a quantidade de kwh consumido: '))\n",
        "\n",
        "print('Digite \"R\" se for residencia: ' )\n",
        "print('Digite \"I\" se for industria: ')\n",
        "print('Digite \"C\" se for comercio: ')\n",
        "\n",
        "res = str.upper(input('Digite a opcao desdeja :'))\n",
        "\n",
        "if res == 'R' and k <= 500:\n",
        "  calc = k * 0.40\n",
        "  print('Voce devera pagar de energia o valor de R$: {:.2f}'.format(calc))\n",
        "elif res == 'R' and k > 500:\n",
        "  calc = k * 0.65\n",
        "  print('Voce devera pagar de energia o valor de R$: {:.2f}'.format(calc))\n",
        "elif res == 'I' and k <= 5000:\n",
        "  calc = k * 0.55\n",
        "  print('Voce devera pagar de energia o valor de R$: {:.2f}'.format(calc))\n",
        "elif res == 'I' and k > 5000:\n",
        "  calc = k * 0.60\n",
        "  print('Voce devera pagar de energia o valor de R$: {:.2f}'.format(calc))\n",
        "elif res == 'C' and k <= 1000:\n",
        "  calc = k * 0.55\n",
        "  print('Voce devera pagar de energia o valor de R$: {:.2f}'.format(calc))\n",
        "elif res == 'C' and k > 1000:\n",
        "  calc = k * 0.60\n",
        "  print('Voce devera pagar de energia o valor de R$: {:.2f}'.format(calc))\n",
        "else:\n",
        "  print('Bota invalido')\n",
        "\n",
        "print('Fim do programa')\n",
        "\n"
      ],
      "metadata": {
        "id": "3H_aRg0wtprQ"
      },
      "execution_count": null,
      "outputs": []
    }
  ]
}