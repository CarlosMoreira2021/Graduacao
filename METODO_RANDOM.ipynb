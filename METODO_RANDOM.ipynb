{
  "nbformat": 4,
  "nbformat_minor": 0,
  "metadata": {
    "colab": {
      "name": "METODO RANDOM",
      "provenance": [],
      "authorship_tag": "ABX9TyPziVK2HNOPk7hNjR/Laac0",
      "include_colab_link": true
    },
    "kernelspec": {
      "name": "python3",
      "display_name": "Python 3"
    },
    "language_info": {
      "name": "python"
    }
  },
  "cells": [
    {
      "cell_type": "markdown",
      "metadata": {
        "id": "view-in-github",
        "colab_type": "text"
      },
      "source": [
        "<a href=\"https://colab.research.google.com/github/CarlosMoreira2021/Graduacao/blob/main/METODO_RANDOM.ipynb\" target=\"_parent\"><img src=\"https://colab.research.google.com/assets/colab-badge.svg\" alt=\"Open In Colab\"/></a>"
      ]
    },
    {
      "cell_type": "code",
      "source": [
        "import random\n",
        "\n",
        "elemento1 = input('Digite o primeiro elemento: ')\n",
        "elemento2 = input('Digite o segundo elemento: ')\n",
        "elemento3 = input('Digite o terceiro elemento: ')\n",
        "\n",
        "lista = [elemento1, elemento2, elemento3]\n",
        "\n",
        "sorteio = random.choice(lista)\n",
        "\n",
        "print(sorteio)"
      ],
      "metadata": {
        "id": "SY4TBAT7F5SD"
      },
      "execution_count": null,
      "outputs": []
    },
    {
      "cell_type": "code",
      "source": [
        "import random\n",
        "\n",
        "n1 = input('Indique o nome do primeiro banhista: ')\n",
        "n2 = input('Indique nome do segundo banhista: ')\n",
        "n3 = input('Indique nome do terceiro banhista: ')\n",
        "n4 = input('Indique nome do quarto banhista: ')\n",
        "a1 = [n1, n2, n3, n4]\n",
        "\n",
        "sorteio = random.sample(a1 , k=4)\n",
        "print('A Ordem das pessoas que vao tomar banho:',sorteio)\n",
        "\n"
      ],
      "metadata": {
        "id": "qv4rDmIOIIXN"
      },
      "execution_count": null,
      "outputs": []
    }
  ]
}