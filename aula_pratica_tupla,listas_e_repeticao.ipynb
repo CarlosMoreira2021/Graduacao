{
  "nbformat": 4,
  "nbformat_minor": 0,
  "metadata": {
    "colab": {
      "name": "aula pratica tupla,listas e repeticao.ipynb",
      "provenance": [],
      "authorship_tag": "ABX9TyPsCCCSH1qMutmYWxsR8S+0",
      "include_colab_link": true
    },
    "kernelspec": {
      "name": "python3",
      "display_name": "Python 3"
    },
    "language_info": {
      "name": "python"
    }
  },
  "cells": [
    {
      "cell_type": "markdown",
      "metadata": {
        "id": "view-in-github",
        "colab_type": "text"
      },
      "source": [
        "<a href=\"https://colab.research.google.com/github/CarlosMoreira2021/Graduacao/blob/main/aula_pratica_tupla%2Clistas_e_repeticao.ipynb\" target=\"_parent\"><img src=\"https://colab.research.google.com/assets/colab-badge.svg\" alt=\"Open In Colab\"/></a>"
      ]
    },
    {
      "cell_type": "code",
      "execution_count": null,
      "metadata": {
        "id": "YsL6bcyWah6M"
      },
      "outputs": [],
      "source": [
        ""
      ]
    }
  ]
}