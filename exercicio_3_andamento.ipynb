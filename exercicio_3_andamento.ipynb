{
  "nbformat": 4,
  "nbformat_minor": 0,
  "metadata": {
    "colab": {
      "name": "exercicio 3- andamento.ipynb",
      "provenance": [],
      "authorship_tag": "ABX9TyNTXVPl/X5jH8kSPRiKvSqs",
      "include_colab_link": true
    },
    "kernelspec": {
      "name": "python3",
      "display_name": "Python 3"
    },
    "language_info": {
      "name": "python"
    }
  },
  "cells": [
    {
      "cell_type": "markdown",
      "metadata": {
        "id": "view-in-github",
        "colab_type": "text"
      },
      "source": [
        "<a href=\"https://colab.research.google.com/github/CarlosMoreira2021/Graduacao/blob/main/exercicio_3_andamento.ipynb\" target=\"_parent\"><img src=\"https://colab.research.google.com/assets/colab-badge.svg\" alt=\"Open In Colab\"/></a>"
      ]
    },
    {
      "cell_type": "code",
      "execution_count": null,
      "metadata": {
        "id": "S1PF8OqJpByY"
      },
      "outputs": [],
      "source": [
        "#valordimensao\n",
        "\n",
        "##tratamento de erro objeto\n",
        "while True:\n",
        "    try:\n",
        "        a = float(input('Digite a altura do objeto (em cm):'))\n",
        "        l = float(input('Digite a largura do objeto (em cm):'))\n",
        "        c = float(input('Digite a comprimento do objeto (em cm):'))\n",
        "        s = a * l + c\n",
        "        break\n",
        "    except ValueError:\n",
        "        print('Voce digitou alguma dimensao do objeto com valor nao numero')\n",
        "        continue\n",
        "\n",
        "\n",
        "##dimensao objeto\n",
        "def dimensaoObj():\n",
        "    global s\n",
        "    global vd\n",
        "    if s < 1000:\n",
        "        vd = 10\n",
        "        print(f'O volume do objeto é em cm3: {s}')\n",
        "    elif s >= 1000 and s < 10000:\n",
        "        vd = 20\n",
        "        print(f'O volume do objeto é em cm3: {s}')\n",
        "    elif s >= 10000 and s < 30000:\n",
        "        vd = 30\n",
        "        print(f'O volume do objeto é em cm3: {s}')\n",
        "    elif s >= 30000 and s < 100000:\n",
        "        vd = 50\n",
        "        print(f'O volume do objeto é em cm3: {s}')\n",
        "    elif s >= 100000:\n",
        "        print(f'O volume do objeto é em cm3: {s}')\n",
        "        print('Não aceitamos objetos com dimensoes tao grandes')\n",
        "        print('Entre com as dimensoes novamente')\n",
        "\n",
        "vd = 0\n",
        "\n",
        "\n",
        "#tratamento peserro peso\n",
        "\n",
        "while True:\n",
        "    try:\n",
        "        p = float(input('Digite o peso do objeto (em kg):'))\n",
        "        break\n",
        "    except ValueError:\n",
        "        print('Voce digitou peso do objeto com valor nao numerico')\n",
        "        continue\n",
        "\n",
        "\n",
        "def pesoObjeto():\n",
        "    global p\n",
        "    if p < 0.1:\n",
        "        p *= 0.1\n",
        "    elif p >= 0.1 and p < 1:\n",
        "        p *= 1.5\n",
        "    elif p >= 1 and p < 10:\n",
        "        p *= 2\n",
        "    elif p >= 10 and p < 30:\n",
        "        p *= 3\n",
        "    elif p > 30:\n",
        "        print('Nao aceitamos objetos tao pesados')\n",
        "\n",
        "\n",
        "pesoObjeto()\n",
        "print(p)\n",
        "\n",
        "\n",
        "\n",
        "\n",
        "\n",
        "\n",
        "\n",
        "\n"
      ]
    }
  ]
}