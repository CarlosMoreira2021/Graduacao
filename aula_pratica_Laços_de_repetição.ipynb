{
  "nbformat": 4,
  "nbformat_minor": 0,
  "metadata": {
    "colab": {
      "name": "aula pratica: Laços de repetição",
      "provenance": [],
      "authorship_tag": "ABX9TyOM8Oj9i9eB2BzAhQ6KSW+x",
      "include_colab_link": true
    },
    "kernelspec": {
      "name": "python3",
      "display_name": "Python 3"
    },
    "language_info": {
      "name": "python"
    }
  },
  "cells": [
    {
      "cell_type": "markdown",
      "metadata": {
        "id": "view-in-github",
        "colab_type": "text"
      },
      "source": [
        "<a href=\"https://colab.research.google.com/github/CarlosMoreira2021/Graduacao/blob/main/aula_pratica_La%C3%A7os_de_repeti%C3%A7%C3%A3o.ipynb\" target=\"_parent\"><img src=\"https://colab.research.google.com/assets/colab-badge.svg\" alt=\"Open In Colab\"/></a>"
      ]
    },
    {
      "cell_type": "code",
      "execution_count": null,
      "metadata": {
        "id": "DIGj_11WGA6n"
      },
      "outputs": [],
      "source": [
        "for i in range(0,8,2):\n",
        "  print(i)"
      ]
    },
    {
      "cell_type": "code",
      "source": [
        "x = 1\n",
        "while (x <= 5):\n",
        "  print(x)\n",
        "  x += 1"
      ],
      "metadata": {
        "id": "oFGORBGQIuZV"
      },
      "execution_count": null,
      "outputs": []
    },
    {
      "cell_type": "markdown",
      "source": [
        "Realize a sequencia de print com for e while:\n",
        "\n",
        "\n",
        "*   inteiros de 3 até 12, com 12 incluso\n",
        "*   Inteiros de 0 ate 9, excluindo 9, com passo e 2\n",
        "\n"
      ],
      "metadata": {
        "id": "wpg2-I7-J5ah"
      }
    },
    {
      "cell_type": "code",
      "source": [
        "#modifiquei um pouco o exercicio pra ficar mais coerente\n",
        "print('Contador')\n",
        "\n",
        "x = int(input('Digite um numero para iniciar a contagem: '))\n",
        "y = int(input('Deseja que a contegem vá ate que numero?'))\n",
        "\n",
        "while (x <= y):\n",
        "  print(x)\n",
        "  x += 1"
      ],
      "metadata": {
        "id": "wbf_xpF2J9bW"
      },
      "execution_count": null,
      "outputs": []
    },
    {
      "cell_type": "code",
      "source": [
        "for i in range(0,9,2):\n",
        "  print(i)\n"
      ],
      "metadata": {
        "id": "-AWXqcNmLVsu"
      },
      "execution_count": null,
      "outputs": []
    },
    {
      "cell_type": "markdown",
      "source": [
        "Escreva um algoritmo que leia dois valores numericos e que pergunte ao usuario qual operacao ele deseja realizar: adicao (+), subtracao(-), multiplicacao (*),divisao(/) e sair. exiba na tela o resultado da operacao desejada.\n",
        "\n",
        "\n",
        "*   Repita ate que a opcao saida seja escolhida\n",
        "\n",
        "\n"
      ],
      "metadata": {
        "id": "odDpljB9UUlx"
      }
    },
    {
      "cell_type": "code",
      "source": [
        "\n"
      ],
      "metadata": {
        "id": "gDfu4HNtUx3Q"
      },
      "execution_count": null,
      "outputs": []
    },
    {
      "cell_type": "code",
      "source": [
        "while True:\n",
        "\n",
        "  n1 = int(input('Escreva um numero: '))\n",
        "\n",
        "  n2 = int(input('Escreva outro numero: '))\n",
        "\n",
        "  print('Digite a operacao desejada')\n",
        "  print('+')\n",
        "  print('-')\n",
        "  print('*')\n",
        "  print('/')\n",
        "\n",
        "  op = (input('------> '))\n",
        "\n",
        "  if op == '+':\n",
        "      print('{} + {} = {} '.format(n1,n2,(n1+n2)))\n",
        "      \n",
        "  elif op == '-':\n",
        "      print('{} - {} = {} '.format(n1,n2,(n1-n2)))\n",
        "      \n",
        "  elif op == '*':\n",
        "      print('{} x {} = {} '.format(n1,n2,(n1*n2)))\n",
        "      \n",
        "  elif op == '/':\n",
        "      print('{} / {} = {}'.format(n1,n2,(n1/n2)))\n",
        "     \n",
        "  elif op == 's' or op == 'S':\n",
        "      break\n",
        "  elif op != '+' or op != '-' or op != '*' or op != '/':\n",
        "      print('Botao invalido')\n",
        "      break\n",
        "\n",
        "print('FIM DO PROGRAMA')\n",
        "\n"
      ],
      "metadata": {
        "id": "zlwqRLOQ3ckh"
      },
      "execution_count": null,
      "outputs": []
    },
    {
      "cell_type": "markdown",
      "source": [
        "`Escreva um algoritmo que leia um valor e imprima a quantidade de celulas necessarias para pagar esse mesmo valor.`\n",
        "\n",
        "```\n",
        "# Para simplificar ,vamos trabalhar apenas com valores inteiros e com cedulas de R$ 100, R$ 50, R$ 20, R$ 10, R$ 5 e R$ 1\n",
        "\n",
        "```\n",
        "\n"
      ],
      "metadata": {
        "id": "_FQKYBavex3D"
      }
    },
    {
      "cell_type": "code",
      "source": [
        "valor = int(input('Digite o valor em R$ '))\n",
        "\n",
        "#o if not valor ira para quando nao existir mais valores para ser distribuidos para o usuario\n",
        "\n",
        "\n",
        "\n",
        "while True:\n",
        "\n",
        "  if valor >= 100:\n",
        "    cedulas100 = valor // 100\n",
        "    valor -= cedulas100 * 100\n",
        "    print('cedulas de 100: {}'.format(cedulas100))\n",
        "    if not valor:\n",
        "        break\n",
        "\n",
        "  if valor >= 50:\n",
        "    cedulas50 = valor // 50\n",
        "    valor -= cedulas50 * 50\n",
        "    print('cedulas de 50: {}'.format(cedulas50))\n",
        "    if not valor:\n",
        "        break\n",
        "\n",
        "  if valor >= 20:\n",
        "    cedulas20= valor // 20\n",
        "    valor -= cedulas20 * 20\n",
        "    print('cedulas de 20: {}'.format(cedulas20))\n",
        "    if not valor:\n",
        "        break\n",
        "\n",
        "  if valor >= 10:\n",
        "    cedulas10 = valor // 10\n",
        "    valor -= cedulas10 * 10\n",
        "    print('cedulas de 10: {}'.format(cedulas10))\n",
        "    if not valor:\n",
        "        break\n",
        "\n",
        "  if valor >= 5:\n",
        "    cedulas5 = valor // 5\n",
        "    valor -= cedulas5 * 5\n",
        "    print('cedulas de 5: {}'.format(cedulas5))\n",
        "    if not valor:\n",
        "        break\n",
        "\n",
        "  if valor >= 1:\n",
        "    cedulas1 = valor // 1\n",
        "    valor -= cedulas1 * 1\n",
        "    print('cedulas de 1: {}'.format(cedulas1))\n",
        "    if not valor:\n",
        "        break\n",
        "\n",
        "  if valor:\n",
        "    cedulas1 = valor \n",
        "    print('cedulas de 1: {}'.format(cedulas1))\n",
        "    if not valor:\n",
        "        break\n",
        "\n",
        "print('Retire seu dinheiro')"
      ],
      "metadata": {
        "id": "RtGzNpPyfmkP"
      },
      "execution_count": null,
      "outputs": []
    },
    {
      "cell_type": "markdown",
      "source": [
        "\n",
        "\n",
        "```\n",
        "# Um cinema cobra precos diferentes para os ingressos de acordo com a idade de uma pessoa. \n",
        "# Se a pessoa tiver menos de 3 anos de idade, o ingresso será gratuito, se tiver entre 3 e 12 anos, o ingreso custará R$ 15,\n",
        "se tiver mais de 12 anos, custara R$ 30\n",
        "```\n",
        "\n"
      ],
      "metadata": {
        "id": "QRIjg-DolKEq"
      }
    },
    {
      "cell_type": "code",
      "source": [
        "total = 0\n",
        "dinheiro = 0\n",
        "print('Para somar os valores digite \"sair\" ')\n",
        "while True:\n",
        "  idade = input('Qual a sua idade? ')\n",
        "  if idade == 'sair' or idade == 'SAIR':\n",
        "    break\n",
        "  idade = int(idade)\n",
        "  total += 1\n",
        "\n",
        "  if idade < 3:\n",
        "    ingresso = 0\n",
        "\n",
        "  elif idade < 12:\n",
        "    ingresso = 15\n",
        "\n",
        "  else:\n",
        "      ingresso = 30\n",
        "\n",
        "  dinheiro += ingresso\n",
        "\n",
        "media = dinheiro / total\n",
        "\n",
        "print('{} pessoas'.format(total))\n",
        "\n",
        "print('{} dinheiro'.format(dinheiro))\n",
        "\n",
        "print('{} Media arrecadada'.format(media))\n",
        "\n"
      ],
      "metadata": {
        "id": "_o_j8bIbloQx"
      },
      "execution_count": null,
      "outputs": []
    }
  ]
}